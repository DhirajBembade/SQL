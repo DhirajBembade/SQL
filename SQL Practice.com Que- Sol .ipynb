{
  "nbformat": 4,
  "nbformat_minor": 0,
  "metadata": {
    "colab": {
      "provenance": [],
      "authorship_tag": "ABX9TyOyheYDRE+X/X4Tix1ufYlr",
      "include_colab_link": true
    },
    "kernelspec": {
      "name": "python3",
      "display_name": "Python 3"
    },
    "language_info": {
      "name": "python"
    }
  },
  "cells": [
    {
      "cell_type": "markdown",
      "metadata": {
        "id": "view-in-github",
        "colab_type": "text"
      },
      "source": [
        "<a href=\"https://colab.research.google.com/github/DhirajBembade/SQL/blob/main/SQL%20Practice.com%20Que-%20Sol%20.ipynb\" target=\"_parent\"><img src=\"https://colab.research.google.com/assets/colab-badge.svg\" alt=\"Open In Colab\"/></a>"
      ]
    },
    {
      "cell_type": "markdown",
      "source": [
        "Based on the cities that our patients live in, show unique cities that are in province_id 'NS'?"
      ],
      "metadata": {
        "id": "csB6yScoMOib"
      }
    },
    {
      "cell_type": "code",
      "source": [
        "select distinct(city) AS unique_city\n",
        "from patients\n",
        "where province_id ='NS';\n"
      ],
      "metadata": {
        "id": "3pKiYjFUNrd6"
      },
      "execution_count": null,
      "outputs": []
    },
    {
      "cell_type": "code",
      "source": [
        "# Alternative Solutions\n",
        "\n",
        "SELECT city\n",
        "FROM patients\n",
        "GROUP BY city\n",
        "HAVING province_id = 'NS';\n"
      ],
      "metadata": {
        "id": "Acz7UMq2OJEg"
      },
      "execution_count": null,
      "outputs": []
    },
    {
      "cell_type": "markdown",
      "source": [],
      "metadata": {
        "id": "juPYimqNNt60"
      }
    }
  ]
}
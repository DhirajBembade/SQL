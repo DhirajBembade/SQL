{
  "nbformat": 4,
  "nbformat_minor": 0,
  "metadata": {
    "colab": {
      "provenance": [],
      "collapsed_sections": [
        "6gQ9kNKSUqDX"
      ],
      "authorship_tag": "ABX9TyM4mhFds1BEtzuvfFEl++NS",
      "include_colab_link": true
    },
    "kernelspec": {
      "name": "python3",
      "display_name": "Python 3"
    },
    "language_info": {
      "name": "python"
    }
  },
  "cells": [
    {
      "cell_type": "markdown",
      "metadata": {
        "id": "view-in-github",
        "colab_type": "text"
      },
      "source": [
        "<a href=\"https://colab.research.google.com/github/DhirajBembade/SQL/blob/main/SQL%20Practice%20Query%20Que-%20Sol.ipynb\" target=\"_parent\"><img src=\"https://colab.research.google.com/assets/colab-badge.svg\" alt=\"Open In Colab\"/></a>"
      ]
    },
    {
      "cell_type": "markdown",
      "source": [
        "#  **Show first name, last name, and gender of patients who's gender is 'M'**"
      ],
      "metadata": {
        "id": "RUM_EfKUPeZo"
      }
    },
    {
      "cell_type": "code",
      "source": [
        "SELECT first_name,last_name,gender FROM patients WHERE gender = 'M';  \n",
        "\n",
        "  # OR\n",
        "\n",
        "SELECT\n",
        "  first_name,\n",
        "  last_name,\n",
        "  gender\n",
        "FROM patients\n",
        "WHERE gender = 'M';"
      ],
      "metadata": {
        "id": "1cC5rR7gPiH7"
      },
      "execution_count": null,
      "outputs": []
    },
    {
      "cell_type": "markdown",
      "source": [
        "# **Show first name and last name of patients who does not have allergies. (null)**"
      ],
      "metadata": {
        "id": "oKpPT_nEPxXn"
      }
    },
    {
      "cell_type": "code",
      "source": [
        "SELECT first_name,last_name FROM patients where allergies is NULL;\n",
        "\n",
        "#OR \n",
        "\n",
        "SELECT\n",
        "  first_name,\n",
        "  last_name\n",
        "FROM patients\n",
        "WHERE allergies IS NULL;"
      ],
      "metadata": {
        "id": "Dsrk2hc-Q-rm"
      },
      "execution_count": null,
      "outputs": []
    },
    {
      "cell_type": "markdown",
      "source": [
        "#**Show first name of patients that start with the letter 'C'**"
      ],
      "metadata": {
        "id": "0a3YxS8xRH30"
      }
    },
    {
      "cell_type": "code",
      "source": [
        "SELECT\n",
        "  first_name\n",
        "FROM\n",
        "  patients\n",
        "WHERE\n",
        "  first_name LIKE 'C%'"
      ],
      "metadata": {
        "id": "1mfHs-e-RdX7"
      },
      "execution_count": null,
      "outputs": []
    },
    {
      "cell_type": "markdown",
      "source": [
        "#**Show first name and last name of patients that weight within the range of 100 to 120 (inclusive)**"
      ],
      "metadata": {
        "id": "UlI1RpgjRgwa"
      }
    },
    {
      "cell_type": "code",
      "source": [
        "SELECT\n",
        "  first_name,\n",
        "  last_name\n",
        "FROM patients\n",
        "WHERE weight BETWEEN 100 AND 120;"
      ],
      "metadata": {
        "id": "h3buLpuCRpbI"
      },
      "execution_count": null,
      "outputs": []
    },
    {
      "cell_type": "markdown",
      "source": [
        "#**Update the patients table for the allergies column. If the patient's allergies is null then replace it with 'NKA'**"
      ],
      "metadata": {
        "id": "FuCVPv94Rv0y"
      }
    },
    {
      "cell_type": "code",
      "source": [
        "SELECT *from patients;\n",
        "    update patients\n",
        "    set allergies = 'NKA'\n",
        "    where allergies is NULL;"
      ],
      "metadata": {
        "id": "UZQ8aKeLR6te"
      },
      "execution_count": null,
      "outputs": []
    },
    {
      "cell_type": "markdown",
      "source": [
        "#**Show first name and last name concatinated into one column to show their full name.**"
      ],
      "metadata": {
        "id": "9lJ9v98aSCG3"
      }
    },
    {
      "cell_type": "code",
      "source": [
        "SELECT\n",
        "  CONCAT(first_name, ' ', last_name) AS full_name\n",
        "FROM patients;"
      ],
      "metadata": {
        "id": "Sv58vlv9SMYF"
      },
      "execution_count": null,
      "outputs": []
    },
    {
      "cell_type": "markdown",
      "source": [
        "#**Show first name, last name, and the full province name of each patient.**\n",
        "**Example: 'Ontario' instead of 'ON'**"
      ],
      "metadata": {
        "id": "Nr2g0zMYSa36"
      }
    },
    {
      "cell_type": "code",
      "source": [
        "SELECT\n",
        "  first_name,\n",
        "  last_name,\n",
        "  province_name\n",
        "FROM patients\n",
        "  JOIN province_names ON province_names.province_id = patients.province_id;"
      ],
      "metadata": {
        "id": "iOhdjy2wSjWY"
      },
      "execution_count": null,
      "outputs": []
    },
    {
      "cell_type": "markdown",
      "source": [
        "#**Show how many patients have a birth_date with 2010 as the birth year.**"
      ],
      "metadata": {
        "id": "JseUIPtiSn45"
      }
    },
    {
      "cell_type": "code",
      "source": [
        "SELECT COUNT(*) AS total_patients\n",
        "FROM patients\n",
        "WHERE YEAR(birth_date) = 2010;\n",
        "\n",
        "#Alternative Solutions\n",
        "\n",
        "SELECT count(first_name) AS total_patients\n",
        "FROM patients\n",
        "WHERE\n",
        "  birth_date >= '2010-01-01'\n",
        "  AND birth_date <= '2010-12-31'"
      ],
      "metadata": {
        "id": "oJJ8WCQlS5Lm"
      },
      "execution_count": null,
      "outputs": []
    },
    {
      "cell_type": "markdown",
      "source": [
        "#**Show the first_name, last_name, and height of the patient with the greatest height.**"
      ],
      "metadata": {
        "id": "d5ltdUHETfKG"
      }
    },
    {
      "cell_type": "code",
      "source": [
        "SELECT\n",
        "  first_name,\n",
        "  last_name,\n",
        "  MAX(height) AS height\n",
        "FROM patients;\n",
        "\n",
        "# Alternative Solutions\n",
        "\n",
        "SELECT\n",
        "  first_name,\n",
        "  last_name,\n",
        "  height\n",
        "FROM patients\n",
        "WHERE height = (\n",
        "    SELECT max(height)\n",
        "    FROM patients\n",
        "  )"
      ],
      "metadata": {
        "id": "JZIP_VCSTzNm"
      },
      "execution_count": null,
      "outputs": []
    },
    {
      "cell_type": "markdown",
      "source": [
        "#**Show all columns for patients who have one of the following patient_ids:**\n",
        "**1,45,534,879,1000**"
      ],
      "metadata": {
        "id": "VA9mSM8gT_UN"
      }
    },
    {
      "cell_type": "code",
      "source": [
        "SELECT *\n",
        "FROM patients\n",
        "WHERE\n",
        "  patient_id IN (1, 45, 534, 879, 1000);"
      ],
      "metadata": {
        "id": "F_A0UqsfUK1j"
      },
      "execution_count": null,
      "outputs": []
    },
    {
      "cell_type": "markdown",
      "source": [
        "#**Show the total number of admissions**"
      ],
      "metadata": {
        "id": "4yKQNx_YURSx"
      }
    },
    {
      "cell_type": "code",
      "source": [
        "SELECT COUNT(*) AS total_admissions\n",
        "FROM admissions;"
      ],
      "metadata": {
        "id": "sfZoyFZcUlc-"
      },
      "execution_count": null,
      "outputs": []
    },
    {
      "cell_type": "markdown",
      "source": [
        "#**Show all the columns from admissions where the patient was admitted and discharged on the same day.**"
      ],
      "metadata": {
        "id": "6gQ9kNKSUqDX"
      }
    },
    {
      "cell_type": "code",
      "source": [
        "SELECT *\n",
        "FROM admissions\n",
        "WHERE admission_date = discharge_date;"
      ],
      "metadata": {
        "id": "I09vYyIYUzn7"
      },
      "execution_count": null,
      "outputs": []
    },
    {
      "cell_type": "markdown",
      "source": [
        "#**Show the patient id and the total number of admissions for patient_id 579.** \n",
        "\n",
        "(Check Patient_id no in query)\n"
      ],
      "metadata": {
        "id": "KxB9TKLhVBZb"
      }
    },
    {
      "cell_type": "code",
      "source": [
        "SELECT\n",
        "  patient_id,\n",
        "  COUNT(*) AS total_admissions\n",
        "FROM admissions\n",
        "WHERE patient_id = 579;"
      ],
      "metadata": {
        "id": "nc3A2qK7VBEx"
      },
      "execution_count": null,
      "outputs": []
    },
    {
      "cell_type": "markdown",
      "source": [
        "# **Based on the cities that our patients live in, show unique cities that are in province_id 'NS'?**"
      ],
      "metadata": {
        "id": "csB6yScoMOib"
      }
    },
    {
      "cell_type": "code",
      "source": [
        "select distinct(city) AS unique_city\n",
        "from patients\n",
        "where province_id ='NS';\n",
        "\n",
        "# Alternative Solutions\n",
        "\n",
        "SELECT city\n",
        "FROM patients\n",
        "GROUP BY city\n",
        "HAVING province_id = 'NS';"
      ],
      "metadata": {
        "id": "3pKiYjFUNrd6"
      },
      "execution_count": null,
      "outputs": []
    },
    {
      "cell_type": "markdown",
      "source": [
        "#**Write a query to find the first_name, last name and birth date of patients who have height more than 160 and weight more than 70**"
      ],
      "metadata": {
        "id": "juPYimqNNt60"
      }
    },
    {
      "cell_type": "code",
      "source": [
        "SELECT first_name, last_name, birth_date FROM patients\n",
        "WHERE height > 160 AND weight > 70;"
      ],
      "metadata": {
        "id": "wAGQ-pq-XzqG"
      },
      "execution_count": null,
      "outputs": []
    },
    {
      "cell_type": "markdown",
      "source": [
        "#**Write a query to find list of patients first_name, last_name, and allergies from Hamilton where allergies are not null**"
      ],
      "metadata": {
        "id": "lkFqbTtZX8jE"
      }
    },
    {
      "cell_type": "code",
      "source": [
        "SELECT\n",
        "  first_name,\n",
        "  last_name,\n",
        "  allergies\n",
        "FROM patients\n",
        "WHERE\n",
        "  city = 'Hamilton'\n",
        "  and allergies is not null"
      ],
      "metadata": {
        "id": "F1TZ2chwYLTR"
      },
      "execution_count": null,
      "outputs": []
    },
    {
      "cell_type": "markdown",
      "source": [
        "#**Based on cities where our patient lives in, write a query to display the list of unique city starting with a vowel (a, e, i, o, u). Show the result order in ascending by city.**"
      ],
      "metadata": {
        "id": "rwmMHcHZZgI2"
      }
    },
    {
      "cell_type": "code",
      "source": [
        "select distinct city\n",
        "from patients\n",
        "where\n",
        "  city like 'a%'\n",
        "  or city like 'e%'\n",
        "  or city like 'i%'\n",
        "  or city like 'o%'\n",
        "  or city like 'u%'\n",
        "order by city"
      ],
      "metadata": {
        "id": "AjKE15V_ZjBu"
      },
      "execution_count": null,
      "outputs": []
    },
    {
      "cell_type": "markdown",
      "source": [
        "#**Show unique birth years from patients and order them by ascending.**"
      ],
      "metadata": {
        "id": "iEcWq0MQaDBT"
      }
    },
    {
      "cell_type": "code",
      "source": [
        "SELECT\n",
        "  DISTINCT YEAR(birth_date) AS birth_year\n",
        "FROM patients\n",
        "ORDER BY birth_year;\n",
        "\n",
        "# Alternative Solutions\n",
        "\n",
        "SELECT year(birth_date)\n",
        "FROM patients\n",
        "GROUP BY year(birth_date)"
      ],
      "metadata": {
        "id": "LpQ0ZLuTcQIp"
      },
      "execution_count": null,
      "outputs": []
    },
    {
      "cell_type": "markdown",
      "source": [
        "#**Show unique first names from the patients table which only occurs once in the list.**\n",
        "\n",
        "**For example, if two or more people are named 'John' in the first_name column then don't include their name in the output list. If only 1 person is named 'Leo' then include them in the output.**"
      ],
      "metadata": {
        "id": "lCq41xq1cle3"
      }
    },
    {
      "cell_type": "code",
      "source": [
        "SELECT first_name\n",
        "FROM patients\n",
        "GROUP BY first_name\n",
        "HAVING COUNT(first_name) = 1\n",
        "\n",
        "# Alternative Solutions\n",
        "\n",
        "SELECT first_name\n",
        "FROM (\n",
        "    SELECT\n",
        "      first_name,\n",
        "      count(first_name) AS occurrencies\n",
        "    FROM patients\n",
        "    GROUP BY first_name\n",
        "  )\n",
        "WHERE occurrencies = 1"
      ],
      "metadata": {
        "id": "1dDNk-WCdeKD"
      },
      "execution_count": null,
      "outputs": []
    },
    {
      "cell_type": "markdown",
      "source": [
        "#**Show patient_id and first_name from patients where their first_name start and ends with 's' and is at least 6 characters long.**"
      ],
      "metadata": {
        "id": "tEgE2zLedzno"
      }
    },
    {
      "cell_type": "code",
      "source": [
        "SELECT\n",
        "  patient_id,\n",
        "  first_name\n",
        "FROM patients\n",
        "WHERE first_name LIKE 's____%s';\n",
        "\n",
        "# Alternative Solutions\n",
        "\n",
        "SELECT\n",
        "  patient_id,\n",
        "  first_name\n",
        "FROM patients\n",
        "where\n",
        "  first_name like 's%'\n",
        "  and first_name like '%s'\n",
        "  and len(first_name) >= 6;\n",
        "\n",
        "# Alternative Solutions\n",
        "\n",
        "SELECT\n",
        "  patient_id,\n",
        "  first_name\n",
        "FROM patients\n",
        "WHERE\n",
        "  first_name LIKE 's%s'\n",
        "  AND len(first_name) >= 6;"
      ],
      "metadata": {
        "id": "DKgSksqFeGIX"
      },
      "execution_count": null,
      "outputs": []
    },
    {
      "cell_type": "markdown",
      "source": [
        "#**Show patient_id, first_name, last_name from patients whos diagnosis is 'Dementia'.**\n",
        "\n",
        "**Primary diagnosis is stored in the admissions table.**"
      ],
      "metadata": {
        "id": "MUYIT5TweZpm"
      }
    },
    {
      "cell_type": "code",
      "source": [
        "SELECT\n",
        "  patients.patient_id,\n",
        "  first_name,\n",
        "  last_name\n",
        "FROM patients\n",
        "  JOIN admissions ON admissions.patient_id = patients.patient_id\n",
        "WHERE diagnosis = 'Dementia';\n",
        "\n",
        "# Alternative Solutions\n",
        "\n",
        "SELECT\n",
        "  patient_id,\n",
        "  first_name,\n",
        "  last_name\n",
        "FROM patients\n",
        "WHERE patient_id IN (\n",
        "    SELECT patient_id\n",
        "    FROM admissions\n",
        "    WHERE diagnosis = 'Dementia'\n",
        "  );"
      ],
      "metadata": {
        "id": "0FPbPyFDfHAH"
      },
      "execution_count": null,
      "outputs": []
    },
    {
      "cell_type": "markdown",
      "source": [
        "#**Display every patient's first_name.**\n",
        "\n",
        "**Order the list by the length of each name and then by alphbetically**"
      ],
      "metadata": {
        "id": "Ts_p_K_qfVOC"
      }
    },
    {
      "cell_type": "code",
      "source": [
        "SELECT first_name\n",
        "FROM patients\n",
        "order by\n",
        "  len(first_name),\n",
        "  first_name;"
      ],
      "metadata": {
        "id": "4CNvAXgHfUwB"
      },
      "execution_count": null,
      "outputs": []
    },
    {
      "cell_type": "markdown",
      "source": [
        "# **#Show the total amount of male patients and the total amount of female patients in the patients table.**\n",
        "\n",
        "**Display the two results in the same row.**"
      ],
      "metadata": {
        "id": "N0g3U8F61hjJ"
      }
    },
    {
      "cell_type": "code",
      "source": [
        "SELECT \n",
        "  (SELECT count(*) FROM patients WHERE gender='M') AS male_count, \n",
        "  (SELECT count(*) FROM patients WHERE gender='F') AS female_count;\n",
        "\n",
        "# \n",
        "\n",
        "SELECT \n",
        "  SUM(Gender = 'M') as male_count, \n",
        "  SUM(Gender = 'F') AS female_count\n",
        "FROM patients\n",
        "\n",
        "#\n",
        "\n",
        "select \n",
        "  sum(case when gender = 'M' then 1 end) as male_count,\n",
        "  sum(case when gender = 'F' then 1 end) as female_count \n",
        "from patients;"
      ],
      "metadata": {
        "id": "PUXDucLf1yCy"
      },
      "execution_count": null,
      "outputs": []
    },
    {
      "cell_type": "markdown",
      "source": [
        "# **#Show first and last name, allergies from patients which have allergies to either 'Penicillin' or 'Morphine'. Show results ordered ascending by allergies then by first_name then by last_name.**"
      ],
      "metadata": {
        "id": "MVw_VmmV2CrS"
      }
    },
    {
      "cell_type": "code",
      "source": [
        "SELECT\n",
        "  first_name,\n",
        "  last_name,\n",
        "  allergies\n",
        "FROM patients\n",
        "WHERE\n",
        "  allergies IN ('Penicillin', 'Morphine')\n",
        "ORDER BY\n",
        "  allergies,\n",
        "  first_name,\n",
        "  last_name;\n",
        "\n",
        "  # Alt Soln\n",
        "\n",
        "  SELECT\n",
        "  first_name,\n",
        "  last_name,\n",
        "  allergies\n",
        "FROM\n",
        "  patients\n",
        "WHERE\n",
        "  allergies = 'Penicillin'\n",
        "  OR allergies = 'Morphine'\n",
        "ORDER BY\n",
        "  allergies ASC,\n",
        "  first_name ASC,\n",
        "  last_name ASC;"
      ],
      "metadata": {
        "id": "vt3g1sJl2UcN"
      },
      "execution_count": null,
      "outputs": []
    },
    {
      "cell_type": "markdown",
      "source": [
        "# **#Show patient_id, diagnosis from admissions. Find patients admitted multiple times for the same diagnosis.**"
      ],
      "metadata": {
        "id": "Bgmmei8U2ktC"
      }
    },
    {
      "cell_type": "code",
      "source": [
        "SELECT\n",
        "  patient_id,\n",
        "  diagnosis\n",
        "FROM admissions\n",
        "GROUP BY\n",
        "  patient_id,\n",
        "  diagnosis\n",
        "HAVING COUNT(*) > 1;"
      ],
      "metadata": {
        "id": "ZeZlgEwu2kR1"
      },
      "execution_count": null,
      "outputs": []
    },
    {
      "cell_type": "markdown",
      "source": [
        "# **#Show the city and the total number of patients in the city. Order from most to least patients and then by city name ascending.**"
      ],
      "metadata": {
        "id": "NFGPXL9n3KEs"
      }
    },
    {
      "cell_type": "code",
      "source": [
        "SELECT\n",
        "  city,\n",
        "  COUNT(*) AS num_patients\n",
        "FROM patients\n",
        "GROUP BY city\n",
        "ORDER BY num_patients DESC, city asc;"
      ],
      "metadata": {
        "id": "1FTHYsAr3sW_"
      },
      "execution_count": null,
      "outputs": []
    },
    {
      "cell_type": "markdown",
      "source": [
        "# **#Show first name, last name and role of every person that is either patient or doctor.**\n",
        "**The roles are either \"Patient\" or \"Doctor\"**"
      ],
      "metadata": {
        "id": "K3wRoe674InV"
      }
    },
    {
      "cell_type": "code",
      "source": [
        "SELECT first_name, last_name, 'Patient' as role FROM patients\n",
        "    union all\n",
        "select first_name, last_name, 'Doctor' from doctors;"
      ],
      "metadata": {
        "id": "L_FwjGXT4Xl0"
      },
      "execution_count": null,
      "outputs": []
    },
    {
      "cell_type": "markdown",
      "source": [
        "# **#Show all allergies ordered by popularity. Remove NULL values from query.**"
      ],
      "metadata": {
        "id": "GIHgDdHo4sst"
      }
    },
    {
      "cell_type": "code",
      "source": [
        "SELECT\n",
        "  allergies,\n",
        "  COUNT(*) AS total_diagnosis\n",
        "FROM patients\n",
        "WHERE\n",
        "  allergies IS NOT NULL\n",
        "GROUP BY allergies\n",
        "ORDER BY total_diagnosis DESC\n",
        "\n",
        "# Alt Soln\n",
        "\n",
        "SELECT\n",
        "  allergies,\n",
        "  count(*)\n",
        "FROM patients\n",
        "WHERE allergies NOT NULL\n",
        "GROUP BY allergies\n",
        "ORDER BY count(*) DESC\n",
        "\n",
        "# Alt Soln\n",
        "\n",
        "SELECT\n",
        "  allergies,\n",
        "  count(allergies) AS total_diagnosis\n",
        "FROM patients\n",
        "GROUP BY allergies\n",
        "HAVING\n",
        "  allergies IS NOT NULL\n",
        "ORDER BY total_diagnosis DESC"
      ],
      "metadata": {
        "id": "JW7s52M64646"
      },
      "execution_count": null,
      "outputs": []
    },
    {
      "cell_type": "markdown",
      "source": [
        "# **#Show all patient's first_name, last_name, and birth_date who were born in the 1970s decade. Sort the list starting from the earliest birth_date.**"
      ],
      "metadata": {
        "id": "WG7hi5cp5JpP"
      }
    },
    {
      "cell_type": "code",
      "source": [
        "SELECT\n",
        "  first_name,\n",
        "  last_name,\n",
        "  birth_date\n",
        "FROM patients\n",
        "WHERE\n",
        "  YEAR(birth_date) BETWEEN 1970 AND 1979\n",
        "ORDER BY birth_date ASC;\n",
        "\n",
        "# Alt Soln\n",
        "\n",
        "SELECT\n",
        "  first_name,\n",
        "  last_name,\n",
        "  birth_date\n",
        "FROM patients\n",
        "WHERE\n",
        "  birth_date >= '1970-01-01'\n",
        "  AND birth_date < '1980-01-01'\n",
        "ORDER BY birth_date ASC\n",
        "\n",
        "# Alt Soln\n",
        "\n",
        "SELECT\n",
        "  first_name,\n",
        "  last_name,\n",
        "  birth_date\n",
        "FROM patients\n",
        "WHERE year(birth_date) LIKE '197%'\n",
        "ORDER BY birth_date ASC\n"
      ],
      "metadata": {
        "id": "dthJCxxv5Yqc"
      },
      "execution_count": null,
      "outputs": []
    },
    {
      "cell_type": "markdown",
      "source": [
        "# **#We want to display each patient's full name in a single column. Their last_name in all upper letters must appear first, then first_name in all lower case letters. Separate the last_name and first_name with a comma. Order the list by the first_name in decending order**\n",
        "\n",
        "**EX: SMITH,jane**"
      ],
      "metadata": {
        "id": "hIEUM5z45l9h"
      }
    },
    {
      "cell_type": "code",
      "source": [
        "SELECT\n",
        "  CONCAT(UPPER(last_name), ',', LOWER(first_name)) AS new_name_format\n",
        "FROM patients\n",
        "ORDER BY first_name DESC;\n",
        "\n",
        "# Alt Soln\n",
        "\n",
        "SELECT\n",
        "  UPPER(last_name) || ',' || LOWER(first_name) AS new_name_format\n",
        "FROM patients\n",
        "ORDER BY first_name DESC;"
      ],
      "metadata": {
        "id": "Cji6qM_d59w_"
      },
      "execution_count": null,
      "outputs": []
    },
    {
      "cell_type": "markdown",
      "source": [
        "# **#Show the province_id(s), sum of height; where the total sum of its patient's height is greater than or equal to 7,000.**"
      ],
      "metadata": {
        "id": "dzkNrV5e6Rwp"
      }
    },
    {
      "cell_type": "code",
      "source": [
        "SELECT\n",
        "  province_id,\n",
        "  SUM(height) AS sum_height\n",
        "FROM patients\n",
        "GROUP BY province_id\n",
        "HAVING sum_height >= 7000"
      ],
      "metadata": {
        "id": "YBYKS7ic6WPV"
      },
      "execution_count": null,
      "outputs": []
    },
    {
      "cell_type": "markdown",
      "source": [
        "# **#Show the difference between the largest weight and smallest weight for patients with the last name 'Maroni'**"
      ],
      "metadata": {
        "id": "J550Xotx6cqs"
      }
    },
    {
      "cell_type": "code",
      "source": [
        "SELECT\n",
        "  (MAX(weight) - MIN(weight)) AS weight_delta\n",
        "FROM patients\n",
        "WHERE last_name = 'Maroni';"
      ],
      "metadata": {
        "id": "xFbOsr-g6n0F"
      },
      "execution_count": null,
      "outputs": []
    },
    {
      "cell_type": "markdown",
      "source": [
        "# **#Show all of the days of the month (1-31) and how many admission_dates occurred on that day. Sort by the day with most admissions to least admissions.**"
      ],
      "metadata": {
        "id": "sUkQIdf36sDn"
      }
    },
    {
      "cell_type": "code",
      "source": [
        "SELECT\n",
        "  DAY(admission_date) AS day_number,\n",
        "  COUNT(*) AS number_of_admissions\n",
        "FROM admissions\n",
        "GROUP BY day_number\n",
        "ORDER BY number_of_admissions DESC"
      ],
      "metadata": {
        "id": "izpkauPY6ri_"
      },
      "execution_count": null,
      "outputs": []
    },
    {
      "cell_type": "markdown",
      "source": [
        "# **#Show all columns for patient_id 542's most recent admission_date.**"
      ],
      "metadata": {
        "id": "i8tVGC3E7DmB"
      }
    },
    {
      "cell_type": "code",
      "source": [
        "SELECT *\n",
        "FROM admissions\n",
        "WHERE patient_id = 542\n",
        "GROUP BY patient_id\n",
        "HAVING\n",
        "  admission_date = MAX(admission_date);\n",
        "\n",
        "  #Alt Soln\n",
        "\n",
        "  SELECT *\n",
        "FROM admissions\n",
        "WHERE\n",
        "  patient_id = '542'\n",
        "  AND admission_date = (\n",
        "    SELECT MAX(admission_date)\n",
        "    FROM admissions\n",
        "    WHERE patient_id = '542'\n",
        "  )\n",
        "\n",
        "  #Alt Soln\n",
        "\n",
        "  SELECT *\n",
        "FROM admissions\n",
        "WHERE patient_id = 542\n",
        "ORDER BY admission_date DESC\n",
        "LIMIT 1\n",
        "\n",
        "#Alt Soln\n",
        "\n",
        "SELECT *\n",
        "FROM admissions\n",
        "GROUP BY patient_id\n",
        "HAVING\n",
        "  patient_id = 542\n",
        "  AND max(admission_date)\n",
        "\n"
      ],
      "metadata": {
        "id": "HHV5JhGV7KS2"
      },
      "execution_count": null,
      "outputs": []
    },
    {
      "cell_type": "markdown",
      "source": [
        "# **#Show patient_id, attending_doctor_id, and diagnosis for admissions that match one of the two criteria:**\n",
        "\n",
        "**1. patient_id is an odd number and attending_doctor_id is either 1, 5, or 19.**\n",
        "\n",
        "**2. attending_doctor_id contains a 2 and the length of patient_id is 3 characters.**"
      ],
      "metadata": {
        "id": "3P5-cUi77eO8"
      }
    },
    {
      "cell_type": "code",
      "source": [
        "SELECT\n",
        "  patient_id,\n",
        "  attending_doctor_id,\n",
        "  diagnosis\n",
        "FROM admissions\n",
        "WHERE\n",
        "  (\n",
        "    attending_doctor_id IN (1, 5, 19)\n",
        "    AND patient_id % 2 != 0\n",
        "  )\n",
        "  OR \n",
        "  (\n",
        "    attending_doctor_id LIKE '%2%'\n",
        "    AND LEN(patient_id) = 3\n",
        "  )"
      ],
      "metadata": {
        "id": "PL4BRou47Hhf"
      },
      "execution_count": null,
      "outputs": []
    },
    {
      "cell_type": "markdown",
      "source": [
        "# **#Show first_name, last_name, and the total number of admissions attended for each doctor.**\n",
        "\n",
        "**Every admission has been attended by a doctor.**"
      ],
      "metadata": {
        "id": "zkyaVI8l7z5T"
      }
    },
    {
      "cell_type": "code",
      "source": [
        "SELECT\n",
        "  first_name,\n",
        "  last_name,\n",
        "  count(*) as admissions_total\n",
        "from admissions a\n",
        "  join doctors ph on ph.doctor_id = a.attending_doctor_id\n",
        "group by attending_doctor_id\n",
        "\n",
        "\n",
        "# Alt Soln\n",
        "\n",
        "SELECT\n",
        "  first_name,\n",
        "  last_name,\n",
        "  count(*)\n",
        "from\n",
        "  doctors p,\n",
        "  admissions a\n",
        "where\n",
        "  a.attending_doctor_id = p.doctor_id\n",
        "group by p.doctor_id;"
      ],
      "metadata": {
        "id": "LvZ18JHD7Fr2"
      },
      "execution_count": null,
      "outputs": []
    },
    {
      "cell_type": "markdown",
      "source": [
        "#  **#For each doctor, display their id, full name, and the first and last admission date they attended.**"
      ],
      "metadata": {
        "id": "N5O2ZARg7010"
      }
    },
    {
      "cell_type": "code",
      "source": [
        "select\n",
        "  doctor_id,\n",
        "  first_name || ' ' || last_name as full_name,\n",
        "  min(admission_date) as first_admission_date,\n",
        "  max(admission_date) as last_admission_date\n",
        "from admissions a\n",
        "  join doctors ph on a.attending_doctor_id = ph.doctor_id\n",
        "group by doctor_id;"
      ],
      "metadata": {
        "id": "jRZBl0Nm76_3"
      },
      "execution_count": null,
      "outputs": []
    },
    {
      "cell_type": "markdown",
      "source": [
        "# **#Display the total amount of patients for each province. Order by descending.**"
      ],
      "metadata": {
        "id": "o_bZERhy8L9K"
      }
    },
    {
      "cell_type": "code",
      "source": [
        "SELECT\n",
        "  province_name,\n",
        "  COUNT(*) as patient_count\n",
        "FROM patients pa\n",
        "  join province_names pr on pr.province_id = pa.province_id\n",
        "group by pr.province_id\n",
        "order by patient_count desc;"
      ],
      "metadata": {
        "id": "TiQ3UALO8TkS"
      },
      "execution_count": null,
      "outputs": []
    },
    {
      "cell_type": "markdown",
      "source": [
        "# **#For every admission, display the patient's full name, their admission diagnosis, and their doctor's full name who diagnosed their problem**"
      ],
      "metadata": {
        "id": "wxwOGwp98ZDm"
      }
    },
    {
      "cell_type": "code",
      "source": [
        "SELECT\n",
        "  CONCAT(patients.first_name, ' ', patients.last_name) as patient_name,\n",
        "  diagnosis,\n",
        "  CONCAT(doctors.first_name,' ',doctors.last_name) as doctor_name\n",
        "FROM patients\n",
        "  JOIN admissions ON admissions.patient_id = patients.patient_id\n",
        "  JOIN doctors ON doctors.doctor_id = admissions.attending_doctor_id;"
      ],
      "metadata": {
        "id": "EidqzTzg8jdN"
      },
      "execution_count": null,
      "outputs": []
    },
    {
      "cell_type": "markdown",
      "source": [
        "# **#display the number of duplicate patients based on their first_name and last_name**"
      ],
      "metadata": {
        "id": "JXl1252i8qxU"
      }
    },
    {
      "cell_type": "code",
      "source": [
        "select\n",
        "  first_name,\n",
        "  last_name,\n",
        "  count(*) as num_of_duplicates\n",
        "from patients\n",
        "group by\n",
        "  first_name,\n",
        "  last_name\n",
        "having count(*) > 1"
      ],
      "metadata": {
        "id": "L0C50f748zZN"
      },
      "execution_count": null,
      "outputs": []
    },
    {
      "cell_type": "markdown",
      "source": [
        "# **# Display patient's full name,height in the units feet rounded to 1 decimal,weight in the unit pounds rounded to 0 decimals, birth_date,gender non abbreviated.**\n",
        "\n",
        "**Convert CM to feet by dividing by 30.48.**\n",
        "**Convert KG to pounds by multiplying by 2.205.**"
      ],
      "metadata": {
        "id": "IrUOEKfw9C8r"
      }
    },
    {
      "cell_type": "code",
      "source": [
        "select\n",
        "    concat(first_name, ' ', last_name) AS 'patient_name', \n",
        "    ROUND(height / 30.48, 1) as 'height \"Feet\"', \n",
        "    ROUND(weight * 2.205, 0) AS 'weight \"Pounds\"', birth_date,\n",
        "CASE\n",
        "\tWHEN gender = 'M' THEN 'MALE' \n",
        "  ELSE 'FEMALE' \n",
        "END AS 'gender_type'\n",
        "from patients"
      ],
      "metadata": {
        "id": "QVjWzHQv9qVz"
      },
      "execution_count": null,
      "outputs": []
    },
    {
      "cell_type": "markdown",
      "source": [
        "# **#Show all of the patients grouped into weight groups. Show the total amount of patients in each weight group. Order the list by the weight group decending.**\n",
        "\n",
        "**For example -- if they weight 100 to 109 they are placed in the 100 weight group, 110-119 = 110 weight group, etc.**"
      ],
      "metadata": {
        "id": "47ivpGRh93Qf"
      }
    },
    {
      "cell_type": "code",
      "source": [
        "SELECT\n",
        "  COUNT(*) AS patients_in_group,\n",
        "  FLOOR(weight / 10) * 10 AS weight_group\n",
        "FROM patients\n",
        "GROUP BY weight_group\n",
        "ORDER BY weight_group DESC;\n",
        "\n",
        "#Alt Soln\n",
        "\n",
        "SELECT\n",
        "  TRUNCATE(weight, -1) AS weight_group,\n",
        "  count(*)\n",
        "FROM patients\n",
        "GROUP BY weight_group\n",
        "ORDER BY weight_group DESC;\n",
        "\n",
        "#Alt Soln\n",
        "\n",
        "SELECT\n",
        "  count(patient_id),\n",
        "  weight - weight % 10 AS weight_group\n",
        "FROM patients\n",
        "GROUP BY weight_group\n",
        "ORDER BY weight_group DESC"
      ],
      "metadata": {
        "id": "660ZaSqL-90P"
      },
      "execution_count": null,
      "outputs": []
    },
    {
      "cell_type": "markdown",
      "source": [
        "# **#Show patient_id, weight, height, isObese from the patients table.**\n",
        "\n",
        "**Display isObese as a boolean 0 or 1.**\n",
        "\n",
        "**Obese is defined as weight(kg)/(height(m)2) >= 30.**\n",
        "\n",
        "**weight is in units kg.**\n",
        "\n",
        "**height is in units cm.**"
      ],
      "metadata": {
        "id": "pyFf0J_b-dzI"
      }
    },
    {
      "cell_type": "code",
      "source": [
        "SELECT patient_id, weight, height, \n",
        "  (CASE \n",
        "      WHEN weight/(POWER(height/100.0,2)) >= 30 THEN\n",
        "          1\n",
        "      ELSE\n",
        "          0\n",
        "      END) AS isObese\n",
        "FROM patients;\n",
        "\n",
        "#Alt Soln\n",
        "\n",
        "SELECT\n",
        "  patient_id,\n",
        "  weight,\n",
        "  height,\n",
        "  weight / power(CAST(height AS float) / 100, 2) >= 30 AS obese\n",
        "FROM patients"
      ],
      "metadata": {
        "id": "adO_IYXr-btV"
      },
      "execution_count": null,
      "outputs": []
    },
    {
      "cell_type": "markdown",
      "source": [
        "# **#Show patient_id, first_name, last_name, and attending doctor's specialty. Show only the patients who has a diagnosis as 'Epilepsy' and the doctor's first name is 'Lisa'**\n",
        "\n",
        "**Check patients, admissions, and doctors tables for required information.**"
      ],
      "metadata": {
        "id": "aAdlsXCI_wV7"
      }
    },
    {
      "cell_type": "code",
      "source": [
        "SELECT\n",
        "  p.patient_id,\n",
        "  p.first_name AS patient_first_name,\n",
        "  p.last_name AS patient_last_name,\n",
        "  ph.specialty AS attending_doctor_specialty\n",
        "FROM patients p\n",
        "  JOIN admissions a ON a.patient_id = p.patient_id\n",
        "  JOIN doctors ph ON ph.doctor_id = a.attending_doctor_id\n",
        "WHERE\n",
        "  ph.first_name = 'Lisa' and\n",
        "  a.diagnosis = 'Epilepsy'\n",
        "\n",
        "  #Alt Son\n",
        "\n",
        "  SELECT\n",
        "  pa.patient_id,\n",
        "  pa.first_name,\n",
        "  pa.last_name,\n",
        "  ph1.specialty\n",
        "FROM patients AS pa\n",
        "  JOIN (\n",
        "    SELECT *\n",
        "    FROM admissions AS a\n",
        "      JOIN doctors AS ph ON a.attending_doctor_id = ph.doctor_id\n",
        "  ) AS ph1 USING (patient_id)\n",
        "WHERE\n",
        "  ph1.diagnosis = 'Epilepsy'\n",
        "  AND ph1.first_name = 'Lisa'\n",
        "\n",
        "\n",
        "  # Alt Soln\n",
        "\n",
        "  SELECT\n",
        "  a.patient_id,\n",
        "  a.first_name,\n",
        "  a.last_name,\n",
        "  b.specialty\n",
        "FROM\n",
        "  patients a,\n",
        "  doctors b,\n",
        "  admissions c\n",
        "WHERE\n",
        "  a.patient_id = c.patient_id\n",
        "  AND c.attending_doctor_id = b.doctor_id\n",
        "  AND c.diagnosis = 'Epilepsy'\n",
        "  AND b.first_name = 'Lisa';\n",
        "\n",
        "  #Alt Soln\n",
        "\n",
        "  with patient_table as (\n",
        "    SELECT\n",
        "      patients.patient_id,\n",
        "      patients.first_name,\n",
        "      patients.last_name,\n",
        "      admissions.attending_doctor_id\n",
        "    FROM patients\n",
        "      JOIN admissions ON patients.patient_id = admissions.patient_id\n",
        "    where\n",
        "      admissions.diagnosis = 'Epilepsy'\n",
        "  )\n",
        "select\n",
        "  patient_table.patient_id,\n",
        "  patient_table.first_name,\n",
        "  patient_table.last_name,\n",
        "  doctors.specialty\n",
        "from patient_table\n",
        "  JOIN doctors ON patient_table.attending_doctor_id = doctors.doctor_id\n",
        "WHERE doctors.first_name = 'Lisa';\n",
        "\n"
      ],
      "metadata": {
        "id": "HGZe_7arADRE"
      },
      "execution_count": null,
      "outputs": []
    },
    {
      "cell_type": "markdown",
      "source": [
        "# **#All patients who have gone through admissions, can see their medical documents on our site. Those patients are given a temporary password after their first admission. Show the patient_id and temp_password.**\n",
        "\n",
        "**The password must be the following, in order:**\n",
        "\n",
        "**1. patient_id**\n",
        "\n",
        "**2. the numerical length of patient's last_name**\n",
        "\n",
        "**3. year of patient's birth_date**"
      ],
      "metadata": {
        "id": "6Ffhn4QXAV7x"
      }
    },
    {
      "cell_type": "code",
      "source": [
        "SELECT\n",
        "  DISTINCT P.patient_id,\n",
        "  CONCAT(\n",
        "    P.patient_id,\n",
        "    LEN(last_name),\n",
        "    YEAR(birth_date)\n",
        "  ) AS temp_password\n",
        "FROM patients P\n",
        "  JOIN admissions A ON A.patient_id = P.patient_id\n",
        "\n",
        "  #Alt Soln\n",
        "\n",
        "  select\n",
        "  distinct p.patient_id,\n",
        "  p.patient_id || floor(len(last_name)) || floor(year(birth_date)) as temp_password\n",
        "from patients p\n",
        "  join admissions a on p.patient_id = a.patient_id\n",
        "\n",
        "  #Alt Soln\n",
        "\n",
        "  select\n",
        "  pa.patient_id,\n",
        "  ad.patient_id || floor(len(pa.last_name)) || floor(year(pa.birth_date)) as temp_password\n",
        "from patients pa\n",
        "  join admissions ad on pa.patient_id = ad.patient_id\n",
        "group by pa.patient_id;"
      ],
      "metadata": {
        "id": "Az7MeujAAre5"
      },
      "execution_count": null,
      "outputs": []
    },
    {
      "cell_type": "markdown",
      "source": [
        "# **#Each admission costs $50 for patients without insurance& $$10  for patients with insurance. All patients with an even patient_id have insurance.**\n",
        "\n",
        "**Give each patient a 'Yes' if they have insurance, and a 'No' if they don't have insurance. Add up the admission_total cost for each has_insurance group.**\n"
      ],
      "metadata": {
        "id": "d2oJCFYdBPrP"
      }
    },
    {
      "cell_type": "code",
      "source": [
        "SELECT \n",
        "CASE WHEN patient_id % 2 = 0 Then \n",
        "    'Yes'\n",
        "ELSE \n",
        "    'No' \n",
        "END as has_insurance,\n",
        "SUM(CASE WHEN patient_id % 2 = 0 Then \n",
        "    10\n",
        "ELSE \n",
        "    50 \n",
        "END) as cost_after_insurance\n",
        "FROM admissions \n",
        "GROUP BY has_insurance;\n",
        "\n",
        "# Alt Soln\n",
        "\n",
        "select 'No' as has_insurance, count(*) * 50 as cost\n",
        "from admissions where patient_id % 2 = 1 group by has_insurance\n",
        "union\n",
        "select 'Yes' as has_insurance, count(*) * 10 as cost\n",
        "from admissions where patient_id % 2 = 0 group by has_insurance\n",
        "\n",
        "\n",
        "#Alt Soln\n",
        "\n",
        "SELECT\n",
        "  has_insurance,\n",
        "  CASE\n",
        "    WHEN has_insurance = 'Yes' THEN COUNT(has_insurance) * 10\n",
        "    ELSE count(has_insurance) * 50\n",
        "  END AS cost_after_insurance\n",
        "FROM (\n",
        "    SELECT\n",
        "      CASE\n",
        "        WHEN patient_id % 2 = 0 THEN 'Yes'\n",
        "        ELSE 'No'\n",
        "      END AS has_insurance\n",
        "    FROM admissions\n",
        "  )\n",
        "GROUP BY has_insurance\n",
        "\n",
        "\n",
        "#Alt Soln\n",
        "\n",
        "select has_insurance,sum(admission_cost) as admission_total\n",
        "from\n",
        "(\n",
        "   select patient_id,\n",
        "   case when patient_id % 2 = 0 then 'Yes' else 'No' end as has_insurance,\n",
        "   case when patient_id % 2 = 0 then 10 else 50 end as admission_cost\n",
        "   from admissions\n",
        ")\n",
        "group by has_insurance\n",
        "\n"
      ],
      "metadata": {
        "id": "In550f2lBusS"
      },
      "execution_count": null,
      "outputs": []
    },
    {
      "cell_type": "markdown",
      "source": [
        "# **#Show the provinces that has more patients identified as 'M' than 'F'. Must only show full province_name**\n"
      ],
      "metadata": {
        "id": "7a8mUQYjCJnx"
      }
    },
    {
      "cell_type": "code",
      "source": [
        "SELECT pr.province_name\n",
        "FROM patients AS pa\n",
        "  JOIN province_names AS pr ON pa.province_id = pr.province_id\n",
        "GROUP BY pr.province_name\n",
        "HAVING\n",
        "  COUNT( CASE WHEN gender = 'M' THEN 1 END) > COUNT( CASE WHEN gender = 'F' THEN 1 END);\n",
        "\n",
        "\n",
        "  # Alt Soln\n",
        "\n",
        "SELECT province_name\n",
        "FROM (\n",
        "    SELECT\n",
        "      province_name,\n",
        "      SUM(gender = 'M') AS n_male,\n",
        "      SUM(gender = 'F') AS n_female\n",
        "    FROM patients pa\n",
        "      JOIN province_names pr ON pa.province_id = pr.province_id\n",
        "    GROUP BY province_name\n",
        "  )\n",
        "WHERE n_male > n_female\n",
        "\n",
        "#Alt Soln\n",
        "\n",
        "SELECT pr.province_name\n",
        "FROM patients AS pa\n",
        "  JOIN province_names AS pr ON pa.province_id = pr.province_id\n",
        "GROUP BY pr.province_name\n",
        "HAVING\n",
        "  SUM(gender = 'M') > SUM(gender = 'F');\n",
        "\n",
        "  # Alt Soln\n",
        "\n",
        "  SELECT province_name\n",
        "FROM patients p\n",
        "  JOIN province_names r ON p.province_id = r.province_id\n",
        "GROUP BY province_name\n",
        "HAVING\n",
        "  SUM(CASE WHEN gender = 'M' THEN 1 ELSE -1 END) > 0\n",
        "\n",
        "  # Alt Soln\n",
        "\n",
        "  SELECT pr.province_name\n",
        "FROM patients AS pa\n",
        "  JOIN province_names AS pr ON pa.province_id = pr.province_id\n",
        "GROUP BY pr.province_name\n",
        "HAVING\n",
        "  COUNT( CASE WHEN gender = 'M' THEN 1 END) > COUNT(*) * 0.5;"
      ],
      "metadata": {
        "id": "l4mpLLw7CU1q"
      },
      "execution_count": null,
      "outputs": []
    },
    {
      "cell_type": "markdown",
      "source": [
        "# **#We are looking for a specific patient. Pull all columns for the patient who matches the following criteria:**\n",
        "\n",
        "- First_name contains an 'r' after the first two letters.\n",
        "- Identifies their gender as 'F'\n",
        "- Born in February, May, or December\n",
        "- Their weight would be between 60kg and 80kg\n",
        "- Their patient_id is an odd number\n",
        "- They are from the city 'Kingston'"
      ],
      "metadata": {
        "id": "6bk_JRyXC34S"
      }
    },
    {
      "cell_type": "code",
      "source": [
        "SELECT *\n",
        "FROM patients\n",
        "WHERE\n",
        "  first_name LIKE '__r%'\n",
        "  AND gender = 'F'\n",
        "  AND MONTH(birth_date) IN (2, 5, 12)\n",
        "  AND weight BETWEEN 60 AND 80\n",
        "  AND patient_id % 2 = 1\n",
        "  AND city = 'Kingston';"
      ],
      "metadata": {
        "id": "1hWc-4EBC77F"
      },
      "execution_count": null,
      "outputs": []
    },
    {
      "cell_type": "markdown",
      "source": [
        "# **#Show the percent of patients that have 'M' as their gender. Round the answer to the nearest hundreth number and in percent form.**\n"
      ],
      "metadata": {
        "id": "twFNZFVwC_XM"
      }
    },
    {
      "cell_type": "code",
      "source": [
        "SELECT CONCAT(\n",
        "    ROUND(\n",
        "      (\n",
        "        SELECT COUNT(*)\n",
        "        FROM patients\n",
        "        WHERE gender = 'M'\n",
        "      ) / CAST(COUNT(*) as float),\n",
        "      4\n",
        "    ) * 100,\n",
        "    '%'\n",
        "  ) as percent_of_male_patients\n",
        "FROM patients;\n",
        "\n",
        "# Alt Soln\n",
        "\n",
        "SELECT \n",
        "   CONCAT(ROUND(SUM(gender='M') / CAST(COUNT(*) AS float), 4) * 100, '%')\n",
        "FROM patients;\n",
        "\n",
        "# Alt Soln\n",
        "\n",
        "SELECT\n",
        "  round(100 * avg(gender = 'M'), 2) || '%' AS percent_of_male_patients\n",
        "FROM\n",
        "  patients;\n",
        "\n",
        "  "
      ],
      "metadata": {
        "id": "K3h0HnOmDMz0"
      },
      "execution_count": null,
      "outputs": []
    },
    {
      "cell_type": "markdown",
      "source": [
        "#**#For each day display the total amount of admissions on that day. Display the amount changed from the previous date.**"
      ],
      "metadata": {
        "id": "FHJYdnPkDZ2J"
      }
    },
    {
      "cell_type": "code",
      "source": [
        "SELECT\n",
        " admission_date,\n",
        " count(admission_date) as admission_day,\n",
        " count(admission_date) - LAG(count(admission_date)) OVER(ORDER BY admission_date) AS admission_count_change \n",
        "FROM admissions\n",
        " group by admission_date\n",
        "\n",
        " # Alt Soln\n",
        "\n",
        " WITH admission_counts_table AS (\n",
        "  SELECT admission_date, COUNT(patient_id) AS admission_count\n",
        "  FROM admissions\n",
        "  GROUP BY admission_date\n",
        "  ORDER BY admission_date DESC\n",
        ")\n",
        "select\n",
        "  admission_date, \n",
        "  admission_count, \n",
        "  admission_count - LAG(admission_count) OVER(ORDER BY admission_date) AS admission_count_change \n",
        "from admission_counts_table"
      ],
      "metadata": {
        "id": "foHC27gkDjGl"
      },
      "execution_count": null,
      "outputs": []
    },
    {
      "cell_type": "markdown",
      "source": [
        "# **#Sort the province names in ascending order in such a way that the province 'Ontario' is always on top.**"
      ],
      "metadata": {
        "id": "Hxoo5ok6DrwL"
      }
    },
    {
      "cell_type": "code",
      "source": [
        "select province_name\n",
        "from province_names\n",
        "order by\n",
        "  (case when province_name = 'Ontario' then 0 else 1 end),\n",
        "  province_name\n",
        "\n",
        "  # Alt Soln\n",
        "\n",
        "  select province_name\n",
        "from province_names\n",
        "order by\n",
        "  (not province_name = 'Ontario'),\n",
        "  province_name\n",
        "\n",
        "  #Alt Soln\n",
        "\n",
        "  select province_name\n",
        "from province_names\n",
        "order by\n",
        "  province_name = 'Ontario' desc,\n",
        "  province_name"
      ],
      "metadata": {
        "id": "E-3F7SUfD1wj"
      },
      "execution_count": null,
      "outputs": []
    }
  ]
}
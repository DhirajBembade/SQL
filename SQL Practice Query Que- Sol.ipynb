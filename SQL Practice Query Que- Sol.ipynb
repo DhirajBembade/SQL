{
  "nbformat": 4,
  "nbformat_minor": 0,
  "metadata": {
    "colab": {
      "provenance": [],
      "authorship_tag": "ABX9TyNHNC/P6WIaHttwTK/EXnSR",
      "include_colab_link": true
    },
    "kernelspec": {
      "name": "python3",
      "display_name": "Python 3"
    },
    "language_info": {
      "name": "python"
    }
  },
  "cells": [
    {
      "cell_type": "markdown",
      "metadata": {
        "id": "view-in-github",
        "colab_type": "text"
      },
      "source": [
        "<a href=\"https://colab.research.google.com/github/DhirajBembade/SQL/blob/main/SQL%20Practice%20Query%20Que-%20Sol.ipynb\" target=\"_parent\"><img src=\"https://colab.research.google.com/assets/colab-badge.svg\" alt=\"Open In Colab\"/></a>"
      ]
    },
    {
      "cell_type": "markdown",
      "source": [
        "#  **Show first name, last name, and gender of patients who's gender is 'M'**"
      ],
      "metadata": {
        "id": "RUM_EfKUPeZo"
      }
    },
    {
      "cell_type": "code",
      "source": [
        "SELECT first_name,last_name,gender FROM patients WHERE gender = 'M';  \n",
        "\n",
        "  # OR\n",
        "\n",
        "SELECT\n",
        "  first_name,\n",
        "  last_name,\n",
        "  gender\n",
        "FROM patients\n",
        "WHERE gender = 'M';"
      ],
      "metadata": {
        "id": "1cC5rR7gPiH7"
      },
      "execution_count": null,
      "outputs": []
    },
    {
      "cell_type": "markdown",
      "source": [
        "# **Show first name and last name of patients who does not have allergies. (null)**"
      ],
      "metadata": {
        "id": "oKpPT_nEPxXn"
      }
    },
    {
      "cell_type": "code",
      "source": [
        "SELECT first_name,last_name FROM patients where allergies is NULL;\n",
        "\n",
        "#OR \n",
        "\n",
        "SELECT\n",
        "  first_name,\n",
        "  last_name\n",
        "FROM patients\n",
        "WHERE allergies IS NULL;"
      ],
      "metadata": {
        "id": "Dsrk2hc-Q-rm"
      },
      "execution_count": null,
      "outputs": []
    },
    {
      "cell_type": "markdown",
      "source": [
        "#**Show first name of patients that start with the letter 'C'**"
      ],
      "metadata": {
        "id": "0a3YxS8xRH30"
      }
    },
    {
      "cell_type": "code",
      "source": [
        "SELECT\n",
        "  first_name\n",
        "FROM\n",
        "  patients\n",
        "WHERE\n",
        "  first_name LIKE 'C%'"
      ],
      "metadata": {
        "id": "1mfHs-e-RdX7"
      },
      "execution_count": null,
      "outputs": []
    },
    {
      "cell_type": "markdown",
      "source": [
        "#**Show first name and last name of patients that weight within the range of 100 to 120 (inclusive)**"
      ],
      "metadata": {
        "id": "UlI1RpgjRgwa"
      }
    },
    {
      "cell_type": "code",
      "source": [
        "SELECT\n",
        "  first_name,\n",
        "  last_name\n",
        "FROM patients\n",
        "WHERE weight BETWEEN 100 AND 120;"
      ],
      "metadata": {
        "id": "h3buLpuCRpbI"
      },
      "execution_count": null,
      "outputs": []
    },
    {
      "cell_type": "markdown",
      "source": [
        "#**Update the patients table for the allergies column. If the patient's allergies is null then replace it with 'NKA'**"
      ],
      "metadata": {
        "id": "FuCVPv94Rv0y"
      }
    },
    {
      "cell_type": "code",
      "source": [
        "SELECT *from patients;\n",
        "    update patients\n",
        "    set allergies = 'NKA'\n",
        "    where allergies is NULL;"
      ],
      "metadata": {
        "id": "UZQ8aKeLR6te"
      },
      "execution_count": null,
      "outputs": []
    },
    {
      "cell_type": "markdown",
      "source": [
        "#**Show first name and last name concatinated into one column to show their full name.**"
      ],
      "metadata": {
        "id": "9lJ9v98aSCG3"
      }
    },
    {
      "cell_type": "code",
      "source": [
        "SELECT\n",
        "  CONCAT(first_name, ' ', last_name) AS full_name\n",
        "FROM patients;"
      ],
      "metadata": {
        "id": "Sv58vlv9SMYF"
      },
      "execution_count": null,
      "outputs": []
    },
    {
      "cell_type": "markdown",
      "source": [
        "#**Show first name, last name, and the full province name of each patient.**\n",
        "**Example: 'Ontario' instead of 'ON'**"
      ],
      "metadata": {
        "id": "Nr2g0zMYSa36"
      }
    },
    {
      "cell_type": "code",
      "source": [
        "SELECT\n",
        "  first_name,\n",
        "  last_name,\n",
        "  province_name\n",
        "FROM patients\n",
        "  JOIN province_names ON province_names.province_id = patients.province_id;"
      ],
      "metadata": {
        "id": "iOhdjy2wSjWY"
      },
      "execution_count": null,
      "outputs": []
    },
    {
      "cell_type": "markdown",
      "source": [
        "#**Show how many patients have a birth_date with 2010 as the birth year.**"
      ],
      "metadata": {
        "id": "JseUIPtiSn45"
      }
    },
    {
      "cell_type": "code",
      "source": [
        "SELECT COUNT(*) AS total_patients\n",
        "FROM patients\n",
        "WHERE YEAR(birth_date) = 2010;\n",
        "\n",
        "#Alternative Solutions\n",
        "\n",
        "SELECT count(first_name) AS total_patients\n",
        "FROM patients\n",
        "WHERE\n",
        "  birth_date >= '2010-01-01'\n",
        "  AND birth_date <= '2010-12-31'"
      ],
      "metadata": {
        "id": "oJJ8WCQlS5Lm"
      },
      "execution_count": null,
      "outputs": []
    },
    {
      "cell_type": "markdown",
      "source": [
        "#**Show the first_name, last_name, and height of the patient with the greatest height.**"
      ],
      "metadata": {
        "id": "d5ltdUHETfKG"
      }
    },
    {
      "cell_type": "code",
      "source": [
        "SELECT\n",
        "  first_name,\n",
        "  last_name,\n",
        "  MAX(height) AS height\n",
        "FROM patients;\n",
        "\n",
        "# Alternative Solutions\n",
        "\n",
        "SELECT\n",
        "  first_name,\n",
        "  last_name,\n",
        "  height\n",
        "FROM patients\n",
        "WHERE height = (\n",
        "    SELECT max(height)\n",
        "    FROM patients\n",
        "  )"
      ],
      "metadata": {
        "id": "JZIP_VCSTzNm"
      },
      "execution_count": null,
      "outputs": []
    },
    {
      "cell_type": "markdown",
      "source": [
        "#**Show all columns for patients who have one of the following patient_ids:**\n",
        "**1,45,534,879,1000**"
      ],
      "metadata": {
        "id": "VA9mSM8gT_UN"
      }
    },
    {
      "cell_type": "code",
      "source": [
        "SELECT *\n",
        "FROM patients\n",
        "WHERE\n",
        "  patient_id IN (1, 45, 534, 879, 1000);"
      ],
      "metadata": {
        "id": "F_A0UqsfUK1j"
      },
      "execution_count": null,
      "outputs": []
    },
    {
      "cell_type": "markdown",
      "source": [
        "#**Show the total number of admissions**"
      ],
      "metadata": {
        "id": "4yKQNx_YURSx"
      }
    },
    {
      "cell_type": "code",
      "source": [
        "SELECT COUNT(*) AS total_admissions\n",
        "FROM admissions;"
      ],
      "metadata": {
        "id": "sfZoyFZcUlc-"
      },
      "execution_count": null,
      "outputs": []
    },
    {
      "cell_type": "markdown",
      "source": [
        "#**Show all the columns from admissions where the patient was admitted and discharged on the same day.**"
      ],
      "metadata": {
        "id": "6gQ9kNKSUqDX"
      }
    },
    {
      "cell_type": "code",
      "source": [
        "SELECT *\n",
        "FROM admissions\n",
        "WHERE admission_date = discharge_date;"
      ],
      "metadata": {
        "id": "I09vYyIYUzn7"
      },
      "execution_count": null,
      "outputs": []
    },
    {
      "cell_type": "markdown",
      "source": [
        "#**Show the patient id and the total number of admissions for patient_id 579.** \n",
        "\n",
        "(Check Patient_id no in query)\n"
      ],
      "metadata": {
        "id": "KxB9TKLhVBZb"
      }
    },
    {
      "cell_type": "code",
      "source": [
        "SELECT\n",
        "  patient_id,\n",
        "  COUNT(*) AS total_admissions\n",
        "FROM admissions\n",
        "WHERE patient_id = 579;"
      ],
      "metadata": {
        "id": "nc3A2qK7VBEx"
      },
      "execution_count": null,
      "outputs": []
    },
    {
      "cell_type": "markdown",
      "source": [
        "# **Based on the cities that our patients live in, show unique cities that are in province_id 'NS'?**"
      ],
      "metadata": {
        "id": "csB6yScoMOib"
      }
    },
    {
      "cell_type": "code",
      "source": [
        "select distinct(city) AS unique_city\n",
        "from patients\n",
        "where province_id ='NS';\n",
        "\n",
        "# Alternative Solutions\n",
        "\n",
        "SELECT city\n",
        "FROM patients\n",
        "GROUP BY city\n",
        "HAVING province_id = 'NS';"
      ],
      "metadata": {
        "id": "3pKiYjFUNrd6"
      },
      "execution_count": null,
      "outputs": []
    },
    {
      "cell_type": "markdown",
      "source": [],
      "metadata": {
        "id": "juPYimqNNt60"
      }
    }
  ]
}
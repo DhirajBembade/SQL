{
  "nbformat": 4,
  "nbformat_minor": 0,
  "metadata": {
    "colab": {
      "provenance": [],
      "collapsed_sections": [
        "6gQ9kNKSUqDX"
      ],
      "authorship_tag": "ABX9TyPWe4zij0GtTeNFvqDEXPJK",
      "include_colab_link": true
    },
    "kernelspec": {
      "name": "python3",
      "display_name": "Python 3"
    },
    "language_info": {
      "name": "python"
    }
  },
  "cells": [
    {
      "cell_type": "markdown",
      "metadata": {
        "id": "view-in-github",
        "colab_type": "text"
      },
      "source": [
        "<a href=\"https://colab.research.google.com/github/DhirajBembade/SQL/blob/main/SQL%20Practice%20Query%20Que-%20Sol.ipynb\" target=\"_parent\"><img src=\"https://colab.research.google.com/assets/colab-badge.svg\" alt=\"Open In Colab\"/></a>"
      ]
    },
    {
      "cell_type": "markdown",
      "source": [
        "#  **Show first name, last name, and gender of patients who's gender is 'M'**"
      ],
      "metadata": {
        "id": "RUM_EfKUPeZo"
      }
    },
    {
      "cell_type": "code",
      "source": [
        "SELECT first_name,last_name,gender FROM patients WHERE gender = 'M';  \n",
        "\n",
        "  # OR\n",
        "\n",
        "SELECT\n",
        "  first_name,\n",
        "  last_name,\n",
        "  gender\n",
        "FROM patients\n",
        "WHERE gender = 'M';"
      ],
      "metadata": {
        "id": "1cC5rR7gPiH7"
      },
      "execution_count": null,
      "outputs": []
    },
    {
      "cell_type": "markdown",
      "source": [
        "# **Show first name and last name of patients who does not have allergies. (null)**"
      ],
      "metadata": {
        "id": "oKpPT_nEPxXn"
      }
    },
    {
      "cell_type": "code",
      "source": [
        "SELECT first_name,last_name FROM patients where allergies is NULL;\n",
        "\n",
        "#OR \n",
        "\n",
        "SELECT\n",
        "  first_name,\n",
        "  last_name\n",
        "FROM patients\n",
        "WHERE allergies IS NULL;"
      ],
      "metadata": {
        "id": "Dsrk2hc-Q-rm"
      },
      "execution_count": null,
      "outputs": []
    },
    {
      "cell_type": "markdown",
      "source": [
        "#**Show first name of patients that start with the letter 'C'**"
      ],
      "metadata": {
        "id": "0a3YxS8xRH30"
      }
    },
    {
      "cell_type": "code",
      "source": [
        "SELECT\n",
        "  first_name\n",
        "FROM\n",
        "  patients\n",
        "WHERE\n",
        "  first_name LIKE 'C%'"
      ],
      "metadata": {
        "id": "1mfHs-e-RdX7"
      },
      "execution_count": null,
      "outputs": []
    },
    {
      "cell_type": "markdown",
      "source": [
        "#**Show first name and last name of patients that weight within the range of 100 to 120 (inclusive)**"
      ],
      "metadata": {
        "id": "UlI1RpgjRgwa"
      }
    },
    {
      "cell_type": "code",
      "source": [
        "SELECT\n",
        "  first_name,\n",
        "  last_name\n",
        "FROM patients\n",
        "WHERE weight BETWEEN 100 AND 120;"
      ],
      "metadata": {
        "id": "h3buLpuCRpbI"
      },
      "execution_count": null,
      "outputs": []
    },
    {
      "cell_type": "markdown",
      "source": [
        "#**Update the patients table for the allergies column. If the patient's allergies is null then replace it with 'NKA'**"
      ],
      "metadata": {
        "id": "FuCVPv94Rv0y"
      }
    },
    {
      "cell_type": "code",
      "source": [
        "SELECT *from patients;\n",
        "    update patients\n",
        "    set allergies = 'NKA'\n",
        "    where allergies is NULL;"
      ],
      "metadata": {
        "id": "UZQ8aKeLR6te"
      },
      "execution_count": null,
      "outputs": []
    },
    {
      "cell_type": "markdown",
      "source": [
        "#**Show first name and last name concatinated into one column to show their full name.**"
      ],
      "metadata": {
        "id": "9lJ9v98aSCG3"
      }
    },
    {
      "cell_type": "code",
      "source": [
        "SELECT\n",
        "  CONCAT(first_name, ' ', last_name) AS full_name\n",
        "FROM patients;"
      ],
      "metadata": {
        "id": "Sv58vlv9SMYF"
      },
      "execution_count": null,
      "outputs": []
    },
    {
      "cell_type": "markdown",
      "source": [
        "#**Show first name, last name, and the full province name of each patient.**\n",
        "**Example: 'Ontario' instead of 'ON'**"
      ],
      "metadata": {
        "id": "Nr2g0zMYSa36"
      }
    },
    {
      "cell_type": "code",
      "source": [
        "SELECT\n",
        "  first_name,\n",
        "  last_name,\n",
        "  province_name\n",
        "FROM patients\n",
        "  JOIN province_names ON province_names.province_id = patients.province_id;"
      ],
      "metadata": {
        "id": "iOhdjy2wSjWY"
      },
      "execution_count": null,
      "outputs": []
    },
    {
      "cell_type": "markdown",
      "source": [
        "#**Show how many patients have a birth_date with 2010 as the birth year.**"
      ],
      "metadata": {
        "id": "JseUIPtiSn45"
      }
    },
    {
      "cell_type": "code",
      "source": [
        "SELECT COUNT(*) AS total_patients\n",
        "FROM patients\n",
        "WHERE YEAR(birth_date) = 2010;\n",
        "\n",
        "#Alternative Solutions\n",
        "\n",
        "SELECT count(first_name) AS total_patients\n",
        "FROM patients\n",
        "WHERE\n",
        "  birth_date >= '2010-01-01'\n",
        "  AND birth_date <= '2010-12-31'"
      ],
      "metadata": {
        "id": "oJJ8WCQlS5Lm"
      },
      "execution_count": null,
      "outputs": []
    },
    {
      "cell_type": "markdown",
      "source": [
        "#**Show the first_name, last_name, and height of the patient with the greatest height.**"
      ],
      "metadata": {
        "id": "d5ltdUHETfKG"
      }
    },
    {
      "cell_type": "code",
      "source": [
        "SELECT\n",
        "  first_name,\n",
        "  last_name,\n",
        "  MAX(height) AS height\n",
        "FROM patients;\n",
        "\n",
        "# Alternative Solutions\n",
        "\n",
        "SELECT\n",
        "  first_name,\n",
        "  last_name,\n",
        "  height\n",
        "FROM patients\n",
        "WHERE height = (\n",
        "    SELECT max(height)\n",
        "    FROM patients\n",
        "  )"
      ],
      "metadata": {
        "id": "JZIP_VCSTzNm"
      },
      "execution_count": null,
      "outputs": []
    },
    {
      "cell_type": "markdown",
      "source": [
        "#**Show all columns for patients who have one of the following patient_ids:**\n",
        "**1,45,534,879,1000**"
      ],
      "metadata": {
        "id": "VA9mSM8gT_UN"
      }
    },
    {
      "cell_type": "code",
      "source": [
        "SELECT *\n",
        "FROM patients\n",
        "WHERE\n",
        "  patient_id IN (1, 45, 534, 879, 1000);"
      ],
      "metadata": {
        "id": "F_A0UqsfUK1j"
      },
      "execution_count": null,
      "outputs": []
    },
    {
      "cell_type": "markdown",
      "source": [
        "#**Show the total number of admissions**"
      ],
      "metadata": {
        "id": "4yKQNx_YURSx"
      }
    },
    {
      "cell_type": "code",
      "source": [
        "SELECT COUNT(*) AS total_admissions\n",
        "FROM admissions;"
      ],
      "metadata": {
        "id": "sfZoyFZcUlc-"
      },
      "execution_count": null,
      "outputs": []
    },
    {
      "cell_type": "markdown",
      "source": [
        "#**Show all the columns from admissions where the patient was admitted and discharged on the same day.**"
      ],
      "metadata": {
        "id": "6gQ9kNKSUqDX"
      }
    },
    {
      "cell_type": "code",
      "source": [
        "SELECT *\n",
        "FROM admissions\n",
        "WHERE admission_date = discharge_date;"
      ],
      "metadata": {
        "id": "I09vYyIYUzn7"
      },
      "execution_count": null,
      "outputs": []
    },
    {
      "cell_type": "markdown",
      "source": [
        "#**Show the patient id and the total number of admissions for patient_id 579.** \n",
        "\n",
        "(Check Patient_id no in query)\n"
      ],
      "metadata": {
        "id": "KxB9TKLhVBZb"
      }
    },
    {
      "cell_type": "code",
      "source": [
        "SELECT\n",
        "  patient_id,\n",
        "  COUNT(*) AS total_admissions\n",
        "FROM admissions\n",
        "WHERE patient_id = 579;"
      ],
      "metadata": {
        "id": "nc3A2qK7VBEx"
      },
      "execution_count": null,
      "outputs": []
    },
    {
      "cell_type": "markdown",
      "source": [
        "# **Based on the cities that our patients live in, show unique cities that are in province_id 'NS'?**"
      ],
      "metadata": {
        "id": "csB6yScoMOib"
      }
    },
    {
      "cell_type": "code",
      "source": [
        "select distinct(city) AS unique_city\n",
        "from patients\n",
        "where province_id ='NS';\n",
        "\n",
        "# Alternative Solutions\n",
        "\n",
        "SELECT city\n",
        "FROM patients\n",
        "GROUP BY city\n",
        "HAVING province_id = 'NS';"
      ],
      "metadata": {
        "id": "3pKiYjFUNrd6"
      },
      "execution_count": null,
      "outputs": []
    },
    {
      "cell_type": "markdown",
      "source": [
        "#**Write a query to find the first_name, last name and birth date of patients who have height more than 160 and weight more than 70**"
      ],
      "metadata": {
        "id": "juPYimqNNt60"
      }
    },
    {
      "cell_type": "code",
      "source": [
        "SELECT first_name, last_name, birth_date FROM patients\n",
        "WHERE height > 160 AND weight > 70;"
      ],
      "metadata": {
        "id": "wAGQ-pq-XzqG"
      },
      "execution_count": null,
      "outputs": []
    },
    {
      "cell_type": "markdown",
      "source": [
        "#**Write a query to find list of patients first_name, last_name, and allergies from Hamilton where allergies are not null**"
      ],
      "metadata": {
        "id": "lkFqbTtZX8jE"
      }
    },
    {
      "cell_type": "code",
      "source": [
        "SELECT\n",
        "  first_name,\n",
        "  last_name,\n",
        "  allergies\n",
        "FROM patients\n",
        "WHERE\n",
        "  city = 'Hamilton'\n",
        "  and allergies is not null"
      ],
      "metadata": {
        "id": "F1TZ2chwYLTR"
      },
      "execution_count": null,
      "outputs": []
    },
    {
      "cell_type": "markdown",
      "source": [
        "#**Based on cities where our patient lives in, write a query to display the list of unique city starting with a vowel (a, e, i, o, u). Show the result order in ascending by city.**"
      ],
      "metadata": {
        "id": "rwmMHcHZZgI2"
      }
    },
    {
      "cell_type": "code",
      "source": [
        "select distinct city\n",
        "from patients\n",
        "where\n",
        "  city like 'a%'\n",
        "  or city like 'e%'\n",
        "  or city like 'i%'\n",
        "  or city like 'o%'\n",
        "  or city like 'u%'\n",
        "order by city"
      ],
      "metadata": {
        "id": "AjKE15V_ZjBu"
      },
      "execution_count": null,
      "outputs": []
    },
    {
      "cell_type": "markdown",
      "source": [
        "#**Show unique birth years from patients and order them by ascending.**"
      ],
      "metadata": {
        "id": "iEcWq0MQaDBT"
      }
    },
    {
      "cell_type": "code",
      "source": [
        "SELECT\n",
        "  DISTINCT YEAR(birth_date) AS birth_year\n",
        "FROM patients\n",
        "ORDER BY birth_year;\n",
        "\n",
        "# Alternative Solutions\n",
        "\n",
        "SELECT year(birth_date)\n",
        "FROM patients\n",
        "GROUP BY year(birth_date)"
      ],
      "metadata": {
        "id": "LpQ0ZLuTcQIp"
      },
      "execution_count": null,
      "outputs": []
    },
    {
      "cell_type": "markdown",
      "source": [
        "#**Show unique first names from the patients table which only occurs once in the list.**\n",
        "\n",
        "**For example, if two or more people are named 'John' in the first_name column then don't include their name in the output list. If only 1 person is named 'Leo' then include them in the output.**"
      ],
      "metadata": {
        "id": "lCq41xq1cle3"
      }
    },
    {
      "cell_type": "code",
      "source": [
        "SELECT first_name\n",
        "FROM patients\n",
        "GROUP BY first_name\n",
        "HAVING COUNT(first_name) = 1\n",
        "\n",
        "# Alternative Solutions\n",
        "\n",
        "SELECT first_name\n",
        "FROM (\n",
        "    SELECT\n",
        "      first_name,\n",
        "      count(first_name) AS occurrencies\n",
        "    FROM patients\n",
        "    GROUP BY first_name\n",
        "  )\n",
        "WHERE occurrencies = 1"
      ],
      "metadata": {
        "id": "1dDNk-WCdeKD"
      },
      "execution_count": null,
      "outputs": []
    },
    {
      "cell_type": "markdown",
      "source": [
        "#**Show patient_id and first_name from patients where their first_name start and ends with 's' and is at least 6 characters long.**"
      ],
      "metadata": {
        "id": "tEgE2zLedzno"
      }
    },
    {
      "cell_type": "code",
      "source": [
        "SELECT\n",
        "  patient_id,\n",
        "  first_name\n",
        "FROM patients\n",
        "WHERE first_name LIKE 's____%s';\n",
        "\n",
        "# Alternative Solutions\n",
        "\n",
        "SELECT\n",
        "  patient_id,\n",
        "  first_name\n",
        "FROM patients\n",
        "where\n",
        "  first_name like 's%'\n",
        "  and first_name like '%s'\n",
        "  and len(first_name) >= 6;\n",
        "\n",
        "# Alternative Solutions\n",
        "\n",
        "SELECT\n",
        "  patient_id,\n",
        "  first_name\n",
        "FROM patients\n",
        "WHERE\n",
        "  first_name LIKE 's%s'\n",
        "  AND len(first_name) >= 6;"
      ],
      "metadata": {
        "id": "DKgSksqFeGIX"
      },
      "execution_count": null,
      "outputs": []
    },
    {
      "cell_type": "markdown",
      "source": [
        "#**Show patient_id, first_name, last_name from patients whos diagnosis is 'Dementia'.**\n",
        "\n",
        "**Primary diagnosis is stored in the admissions table.**"
      ],
      "metadata": {
        "id": "MUYIT5TweZpm"
      }
    },
    {
      "cell_type": "code",
      "source": [
        "SELECT\n",
        "  patients.patient_id,\n",
        "  first_name,\n",
        "  last_name\n",
        "FROM patients\n",
        "  JOIN admissions ON admissions.patient_id = patients.patient_id\n",
        "WHERE diagnosis = 'Dementia';\n",
        "\n",
        "# Alternative Solutions\n",
        "\n",
        "SELECT\n",
        "  patient_id,\n",
        "  first_name,\n",
        "  last_name\n",
        "FROM patients\n",
        "WHERE patient_id IN (\n",
        "    SELECT patient_id\n",
        "    FROM admissions\n",
        "    WHERE diagnosis = 'Dementia'\n",
        "  );"
      ],
      "metadata": {
        "id": "0FPbPyFDfHAH"
      },
      "execution_count": null,
      "outputs": []
    },
    {
      "cell_type": "markdown",
      "source": [
        "#**Display every patient's first_name.**\n",
        "\n",
        "**Order the list by the length of each name and then by alphbetically**"
      ],
      "metadata": {
        "id": "Ts_p_K_qfVOC"
      }
    },
    {
      "cell_type": "code",
      "source": [
        "SELECT first_name\n",
        "FROM patients\n",
        "order by\n",
        "  len(first_name),\n",
        "  first_name;"
      ],
      "metadata": {
        "id": "4CNvAXgHfUwB"
      },
      "execution_count": null,
      "outputs": []
    },
    {
      "cell_type": "markdown",
      "source": [
        "# **#Show the total amount of male patients and the total amount of female patients in the patients table.**\n",
        "\n",
        "**Display the two results in the same row.**"
      ],
      "metadata": {
        "id": "N0g3U8F61hjJ"
      }
    },
    {
      "cell_type": "code",
      "source": [
        "SELECT \n",
        "  (SELECT count(*) FROM patients WHERE gender='M') AS male_count, \n",
        "  (SELECT count(*) FROM patients WHERE gender='F') AS female_count;\n",
        "\n",
        "# \n",
        "\n",
        "SELECT \n",
        "  SUM(Gender = 'M') as male_count, \n",
        "  SUM(Gender = 'F') AS female_count\n",
        "FROM patients\n",
        "\n",
        "#\n",
        "\n",
        "select \n",
        "  sum(case when gender = 'M' then 1 end) as male_count,\n",
        "  sum(case when gender = 'F' then 1 end) as female_count \n",
        "from patients;"
      ],
      "metadata": {
        "id": "PUXDucLf1yCy"
      },
      "execution_count": null,
      "outputs": []
    },
    {
      "cell_type": "markdown",
      "source": [
        "# **#Show first and last name, allergies from patients which have allergies to either 'Penicillin' or 'Morphine'. Show results ordered ascending by allergies then by first_name then by last_name.**"
      ],
      "metadata": {
        "id": "MVw_VmmV2CrS"
      }
    },
    {
      "cell_type": "code",
      "source": [
        "SELECT\n",
        "  first_name,\n",
        "  last_name,\n",
        "  allergies\n",
        "FROM patients\n",
        "WHERE\n",
        "  allergies IN ('Penicillin', 'Morphine')\n",
        "ORDER BY\n",
        "  allergies,\n",
        "  first_name,\n",
        "  last_name;\n",
        "\n",
        "  # Alt Soln\n",
        "\n",
        "  SELECT\n",
        "  first_name,\n",
        "  last_name,\n",
        "  allergies\n",
        "FROM\n",
        "  patients\n",
        "WHERE\n",
        "  allergies = 'Penicillin'\n",
        "  OR allergies = 'Morphine'\n",
        "ORDER BY\n",
        "  allergies ASC,\n",
        "  first_name ASC,\n",
        "  last_name ASC;"
      ],
      "metadata": {
        "id": "vt3g1sJl2UcN"
      },
      "execution_count": null,
      "outputs": []
    },
    {
      "cell_type": "markdown",
      "source": [
        "# **#Show patient_id, diagnosis from admissions. Find patients admitted multiple times for the same diagnosis.**"
      ],
      "metadata": {
        "id": "Bgmmei8U2ktC"
      }
    },
    {
      "cell_type": "code",
      "source": [
        "SELECT\n",
        "  patient_id,\n",
        "  diagnosis\n",
        "FROM admissions\n",
        "GROUP BY\n",
        "  patient_id,\n",
        "  diagnosis\n",
        "HAVING COUNT(*) > 1;"
      ],
      "metadata": {
        "id": "ZeZlgEwu2kR1"
      },
      "execution_count": null,
      "outputs": []
    },
    {
      "cell_type": "markdown",
      "source": [
        "# **#Show the city and the total number of patients in the city. Order from most to least patients and then by city name ascending.**"
      ],
      "metadata": {
        "id": "NFGPXL9n3KEs"
      }
    },
    {
      "cell_type": "code",
      "source": [
        "SELECT\n",
        "  city,\n",
        "  COUNT(*) AS num_patients\n",
        "FROM patients\n",
        "GROUP BY city\n",
        "ORDER BY num_patients DESC, city asc;"
      ],
      "metadata": {
        "id": "1FTHYsAr3sW_"
      },
      "execution_count": null,
      "outputs": []
    },
    {
      "cell_type": "markdown",
      "source": [
        "# **#Show first name, last name and role of every person that is either patient or doctor.**\n",
        "**The roles are either \"Patient\" or \"Doctor\"**"
      ],
      "metadata": {
        "id": "K3wRoe674InV"
      }
    },
    {
      "cell_type": "code",
      "source": [
        "SELECT first_name, last_name, 'Patient' as role FROM patients\n",
        "    union all\n",
        "select first_name, last_name, 'Doctor' from doctors;"
      ],
      "metadata": {
        "id": "L_FwjGXT4Xl0"
      },
      "execution_count": null,
      "outputs": []
    },
    {
      "cell_type": "markdown",
      "source": [
        "# **#Show all allergies ordered by popularity. Remove NULL values from query.**"
      ],
      "metadata": {
        "id": "GIHgDdHo4sst"
      }
    },
    {
      "cell_type": "code",
      "source": [
        "SELECT\n",
        "  allergies,\n",
        "  COUNT(*) AS total_diagnosis\n",
        "FROM patients\n",
        "WHERE\n",
        "  allergies IS NOT NULL\n",
        "GROUP BY allergies\n",
        "ORDER BY total_diagnosis DESC\n",
        "\n",
        "# Alt Soln\n",
        "\n",
        "SELECT\n",
        "  allergies,\n",
        "  count(*)\n",
        "FROM patients\n",
        "WHERE allergies NOT NULL\n",
        "GROUP BY allergies\n",
        "ORDER BY count(*) DESC\n",
        "\n",
        "# Alt Soln\n",
        "\n",
        "SELECT\n",
        "  allergies,\n",
        "  count(allergies) AS total_diagnosis\n",
        "FROM patients\n",
        "GROUP BY allergies\n",
        "HAVING\n",
        "  allergies IS NOT NULL\n",
        "ORDER BY total_diagnosis DESC"
      ],
      "metadata": {
        "id": "JW7s52M64646"
      },
      "execution_count": null,
      "outputs": []
    },
    {
      "cell_type": "markdown",
      "source": [
        "# **#Show all patient's first_name, last_name, and birth_date who were born in the 1970s decade. Sort the list starting from the earliest birth_date.**"
      ],
      "metadata": {
        "id": "WG7hi5cp5JpP"
      }
    },
    {
      "cell_type": "code",
      "source": [
        "SELECT\n",
        "  first_name,\n",
        "  last_name,\n",
        "  birth_date\n",
        "FROM patients\n",
        "WHERE\n",
        "  YEAR(birth_date) BETWEEN 1970 AND 1979\n",
        "ORDER BY birth_date ASC;\n",
        "\n",
        "# Alt Soln\n",
        "\n",
        "SELECT\n",
        "  first_name,\n",
        "  last_name,\n",
        "  birth_date\n",
        "FROM patients\n",
        "WHERE\n",
        "  birth_date >= '1970-01-01'\n",
        "  AND birth_date < '1980-01-01'\n",
        "ORDER BY birth_date ASC\n",
        "\n",
        "# Alt Soln\n",
        "\n",
        "SELECT\n",
        "  first_name,\n",
        "  last_name,\n",
        "  birth_date\n",
        "FROM patients\n",
        "WHERE year(birth_date) LIKE '197%'\n",
        "ORDER BY birth_date ASC\n"
      ],
      "metadata": {
        "id": "dthJCxxv5Yqc"
      },
      "execution_count": null,
      "outputs": []
    },
    {
      "cell_type": "markdown",
      "source": [
        "# **#We want to display each patient's full name in a single column. Their last_name in all upper letters must appear first, then first_name in all lower case letters. Separate the last_name and first_name with a comma. Order the list by the first_name in decending order**\n",
        "\n",
        "**EX: SMITH,jane**"
      ],
      "metadata": {
        "id": "hIEUM5z45l9h"
      }
    },
    {
      "cell_type": "code",
      "source": [
        "SELECT\n",
        "  CONCAT(UPPER(last_name), ',', LOWER(first_name)) AS new_name_format\n",
        "FROM patients\n",
        "ORDER BY first_name DESC;\n",
        "\n",
        "# Alt Soln\n",
        "\n",
        "SELECT\n",
        "  UPPER(last_name) || ',' || LOWER(first_name) AS new_name_format\n",
        "FROM patients\n",
        "ORDER BY first_name DESC;"
      ],
      "metadata": {
        "id": "Cji6qM_d59w_"
      },
      "execution_count": null,
      "outputs": []
    },
    {
      "cell_type": "markdown",
      "source": [
        "# **#Show the province_id(s), sum of height; where the total sum of its patient's height is greater than or equal to 7,000.**"
      ],
      "metadata": {
        "id": "dzkNrV5e6Rwp"
      }
    },
    {
      "cell_type": "code",
      "source": [
        "SELECT\n",
        "  province_id,\n",
        "  SUM(height) AS sum_height\n",
        "FROM patients\n",
        "GROUP BY province_id\n",
        "HAVING sum_height >= 7000"
      ],
      "metadata": {
        "id": "YBYKS7ic6WPV"
      },
      "execution_count": null,
      "outputs": []
    },
    {
      "cell_type": "markdown",
      "source": [
        "# **#Show the difference between the largest weight and smallest weight for patients with the last name 'Maroni'**"
      ],
      "metadata": {
        "id": "J550Xotx6cqs"
      }
    },
    {
      "cell_type": "code",
      "source": [
        "SELECT\n",
        "  (MAX(weight) - MIN(weight)) AS weight_delta\n",
        "FROM patients\n",
        "WHERE last_name = 'Maroni';"
      ],
      "metadata": {
        "id": "xFbOsr-g6n0F"
      },
      "execution_count": null,
      "outputs": []
    },
    {
      "cell_type": "markdown",
      "source": [
        "# **#Show all of the days of the month (1-31) and how many admission_dates occurred on that day. Sort by the day with most admissions to least admissions.**"
      ],
      "metadata": {
        "id": "sUkQIdf36sDn"
      }
    },
    {
      "cell_type": "code",
      "source": [
        "SELECT\n",
        "  DAY(admission_date) AS day_number,\n",
        "  COUNT(*) AS number_of_admissions\n",
        "FROM admissions\n",
        "GROUP BY day_number\n",
        "ORDER BY number_of_admissions DESC"
      ],
      "metadata": {
        "id": "izpkauPY6ri_"
      },
      "execution_count": null,
      "outputs": []
    },
    {
      "cell_type": "markdown",
      "source": [
        "# **#Show all columns for patient_id 542's most recent admission_date.**"
      ],
      "metadata": {
        "id": "i8tVGC3E7DmB"
      }
    },
    {
      "cell_type": "code",
      "source": [
        "SELECT *\n",
        "FROM admissions\n",
        "WHERE patient_id = 542\n",
        "GROUP BY patient_id\n",
        "HAVING\n",
        "  admission_date = MAX(admission_date);\n",
        "\n",
        "  #Alt Soln\n",
        "\n",
        "  SELECT *\n",
        "FROM admissions\n",
        "WHERE\n",
        "  patient_id = '542'\n",
        "  AND admission_date = (\n",
        "    SELECT MAX(admission_date)\n",
        "    FROM admissions\n",
        "    WHERE patient_id = '542'\n",
        "  )\n",
        "\n",
        "  #Alt Soln\n",
        "\n",
        "  SELECT *\n",
        "FROM admissions\n",
        "WHERE patient_id = 542\n",
        "ORDER BY admission_date DESC\n",
        "LIMIT 1\n",
        "\n",
        "#Alt Soln\n",
        "\n",
        "SELECT *\n",
        "FROM admissions\n",
        "GROUP BY patient_id\n",
        "HAVING\n",
        "  patient_id = 542\n",
        "  AND max(admission_date)\n",
        "\n"
      ],
      "metadata": {
        "id": "HHV5JhGV7KS2"
      },
      "execution_count": null,
      "outputs": []
    },
    {
      "cell_type": "markdown",
      "source": [
        "# **#Show patient_id, attending_doctor_id, and diagnosis for admissions that match one of the two criteria:**\n",
        "\n",
        "**1. patient_id is an odd number and attending_doctor_id is either 1, 5, or 19.**\n",
        "\n",
        "**2. attending_doctor_id contains a 2 and the length of patient_id is 3 characters.**"
      ],
      "metadata": {
        "id": "3P5-cUi77eO8"
      }
    },
    {
      "cell_type": "code",
      "source": [
        "SELECT\n",
        "  patient_id,\n",
        "  attending_doctor_id,\n",
        "  diagnosis\n",
        "FROM admissions\n",
        "WHERE\n",
        "  (\n",
        "    attending_doctor_id IN (1, 5, 19)\n",
        "    AND patient_id % 2 != 0\n",
        "  )\n",
        "  OR \n",
        "  (\n",
        "    attending_doctor_id LIKE '%2%'\n",
        "    AND LEN(patient_id) = 3\n",
        "  )"
      ],
      "metadata": {
        "id": "PL4BRou47Hhf"
      },
      "execution_count": null,
      "outputs": []
    },
    {
      "cell_type": "markdown",
      "source": [
        "# **#"
      ],
      "metadata": {
        "id": "zkyaVI8l7z5T"
      }
    }
  ]
}